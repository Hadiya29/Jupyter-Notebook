{
 "cells": [
  {
   "cell_type": "markdown",
   "id": "6de06776",
   "metadata": {},
   "source": [
    "# Data Science Tools and Ecosystem"
   ]
  },
  {
   "cell_type": "markdown",
   "id": "1e6de968",
   "metadata": {},
   "source": [
    "In this notebook, Data Science Tools and Ecosystem are summarized."
   ]
  },
  {
   "cell_type": "markdown",
   "id": "d45fa56e",
   "metadata": {},
   "source": [
    "Objectives:\n",
    "\n",
    "  + List popular languages for Data Science.\n",
    "  + List commonly used libraries used in Data Science.\n",
    "  + List Data Science Tools.\n",
    "  + Evaluate simple arithemetic expressions in python.\n"
   ]
  },
  {
   "cell_type": "markdown",
   "id": "03f838ec",
   "metadata": {},
   "source": [
    "Some of the popular languages that Data Scientists use are:\n",
    "  \n",
    "  1. Python\n",
    "  2. R\n",
    "  3. SQL\n",
    "  4. Java\n",
    "  5. Scala\n",
    "  6. C++\n",
    "  7. Julia"
   ]
  },
  {
   "cell_type": "markdown",
   "id": "5827cee0",
   "metadata": {},
   "source": [
    "Some of the commonly used libraries used by Data Scientists include:\n",
    "\n",
    "  1. TensorFlow\n",
    "  2. NumPy\n",
    "  3. SciPy\n",
    "  4. Pandas\n",
    "  5. Matplotlib\n",
    "  6. SciKit-Learn\n",
    "  7. Keras\n",
    "  "
   ]
  },
  {
   "cell_type": "markdown",
   "id": "e5282c6b",
   "metadata": {},
   "source": [
    "|Data Science Tools|\n",
    "|------------------|\n",
    "|Jupyter Notebook|\n",
    "|RStudio|\n",
    "|GitHub|"
   ]
  },
  {
   "cell_type": "markdown",
   "id": "0e3a6104",
   "metadata": {},
   "source": [
    "### Below are a few examples of evaluating arithmetic expressions in Python."
   ]
  },
  {
   "cell_type": "code",
   "execution_count": 6,
   "id": "bce0c725",
   "metadata": {},
   "outputs": [
    {
     "data": {
      "text/plain": [
       "17"
      ]
     },
     "execution_count": 6,
     "metadata": {},
     "output_type": "execute_result"
    }
   ],
   "source": [
    "# This a simple arithmetic expression to mutiply then add integers\n",
    "\n",
    "(3*4)+5"
   ]
  },
  {
   "cell_type": "code",
   "execution_count": 7,
   "id": "f1ede4bc",
   "metadata": {
    "scrolled": true
   },
   "outputs": [
    {
     "data": {
      "text/plain": [
       "3.3333333333333335"
      ]
     },
     "execution_count": 7,
     "metadata": {},
     "output_type": "execute_result"
    }
   ],
   "source": [
    "# This will convert 200 minutes to hours by dividing by 60.\n",
    "\n",
    "minutes = 200\n",
    "hours = minutes / 60\n",
    "hours"
   ]
  },
  {
   "cell_type": "markdown",
   "id": "fcecae9c",
   "metadata": {},
   "source": [
    "## Author\n",
    "    Hadiya Ashraf"
   ]
  }
 ],
 "metadata": {
  "kernelspec": {
   "display_name": "Python 3 (ipykernel)",
   "language": "python",
   "name": "python3"
  },
  "language_info": {
   "codemirror_mode": {
    "name": "ipython",
    "version": 3
   },
   "file_extension": ".py",
   "mimetype": "text/x-python",
   "name": "python",
   "nbconvert_exporter": "python",
   "pygments_lexer": "ipython3",
   "version": "3.9.18"
  }
 },
 "nbformat": 4,
 "nbformat_minor": 5
}
